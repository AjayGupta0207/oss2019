{
 "cells": [
  {
   "cell_type": "markdown",
   "metadata": {},
   "source": [
    "## From GSheet update Hugo project and chapters leaders\n",
    "\n",
    "The original mapping was done on GSheets so let's use that data"
   ]
  },
  {
   "cell_type": "code",
   "execution_count": 2,
   "metadata": {},
   "outputs": [],
   "source": [
    "from oss_hugo.OSS_GSheet_Data import OSS_GSheet_Data\n",
    "from oss_hugo.API_Hugo_OSS    import API_Hugo_OSS\n",
    "#from oss_hugo.OSS_Participant import OSS_Participant"
   ]
  },
  {
   "cell_type": "code",
   "execution_count": 15,
   "metadata": {},
   "outputs": [
    {
     "data": {
      "text/plain": [
       "'all done (see changes in git)'"
      ]
     },
     "execution_count": 15,
     "metadata": {},
     "output_type": "execute_result"
    }
   ],
   "source": [
    "gsheet = OSS_GSheet_Data()\n",
    "hugo   = API_Hugo_OSS()\n",
    "\n",
    "participants = hugo.participants_oss()\n",
    "df_gsheet    = gsheet.df_participants_onsite(['Name','Chapter Leader','Project Leader'])\n",
    "\n",
    "# Updating the Chapter Leaders values\n",
    "# df_chapters  = df_gsheet[df_gsheet['Chapter Leader'] != '']\n",
    "\n",
    "# for index, row in df_chapters.iterrows():\n",
    "#     participant = participants.get(row['Name'])\n",
    "#     participant.set_field('chapter_leader', row['Chapter Leader'])\n",
    "#     participant.save()\n",
    "\n",
    "# Updating the Project Leaders values\n",
    "\n",
    "\"all done (see changes in git)\""
   ]
  },
  {
   "cell_type": "code",
   "execution_count": 29,
   "metadata": {},
   "outputs": [],
   "source": [
    "df_projects  = df_gsheet[df_gsheet['Project Leader'] != '']\n",
    "for index, row in df_projects.iterrows():\n",
    "    name  = row['Name']\n",
    "    value = [x.strip() for x in row['Project Leader'].split(',')]\n",
    "    participant = participants.get(name)\n",
    "    participant.set_field('project_leader', value)\n",
    "    participant.save()"
   ]
  },
  {
   "cell_type": "code",
   "execution_count": 28,
   "metadata": {},
   "outputs": [
    {
     "ename": "AttributeError",
     "evalue": "'list' object has no attribute 'apply'",
     "output_type": "error",
     "traceback": [
      "\u001b[0;31m---------------------------------------------------------------------------\u001b[0m",
      "\u001b[0;31mAttributeError\u001b[0m                            Traceback (most recent call last)",
      "\u001b[0;32m<ipython-input-28-44faafa44818>\u001b[0m in \u001b[0;36m<module>\u001b[0;34m\u001b[0m\n\u001b[0;32m----> 1\u001b[0;31m \u001b[0mvalue\u001b[0m\u001b[0;34m.\u001b[0m\u001b[0mapply\u001b[0m\u001b[0;34m\u001b[0m\u001b[0;34m\u001b[0m\u001b[0m\n\u001b[0m",
      "\u001b[0;31mAttributeError\u001b[0m: 'list' object has no attribute 'apply'"
     ]
    }
   ],
   "source": []
  },
  {
   "cell_type": "code",
   "execution_count": null,
   "metadata": {},
   "outputs": [],
   "source": []
  }
 ],
 "metadata": {
  "kernelspec": {
   "display_name": "Python 3",
   "language": "python",
   "name": "python3"
  },
  "language_info": {
   "codemirror_mode": {
    "name": "ipython",
    "version": 3
   },
   "file_extension": ".py",
   "mimetype": "text/x-python",
   "name": "python",
   "nbconvert_exporter": "python",
   "pygments_lexer": "ipython3",
   "version": "3.7.3"
  }
 },
 "nbformat": 4,
 "nbformat_minor": 2
}
