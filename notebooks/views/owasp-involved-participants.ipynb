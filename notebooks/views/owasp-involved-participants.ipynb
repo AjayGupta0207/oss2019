{
 "cells": [
  {
   "cell_type": "markdown",
   "metadata": {},
   "source": [
    "# OWASP involved Participants\n",
    "\n",
    "This notebook shows the values of the hugo fields that capture OWASP involvement"
   ]
  },
  {
   "cell_type": "markdown",
   "metadata": {},
   "source": [
    "## Chapter Leaders"
   ]
  },
  {
   "cell_type": "code",
   "execution_count": 22,
   "metadata": {},
   "outputs": [
    {
     "data": {
      "text/html": [
       "<div>\n",
       "<style scoped>\n",
       "    .dataframe tbody tr th:only-of-type {\n",
       "        vertical-align: middle;\n",
       "    }\n",
       "\n",
       "    .dataframe tbody tr th {\n",
       "        vertical-align: top;\n",
       "    }\n",
       "\n",
       "    .dataframe thead th {\n",
       "        text-align: right;\n",
       "    }\n",
       "</style>\n",
       "<table border=\"1\" class=\"dataframe\">\n",
       "  <thead>\n",
       "    <tr style=\"text-align: right;\">\n",
       "      <th></th>\n",
       "      <th>title</th>\n",
       "      <th>chapter_leader</th>\n",
       "    </tr>\n",
       "  </thead>\n",
       "  <tbody>\n",
       "    <tr>\n",
       "      <th>1</th>\n",
       "      <td>Lauren Chiesa</td>\n",
       "      <td>WiaLondon</td>\n",
       "    </tr>\n",
       "    <tr>\n",
       "      <th>2</th>\n",
       "      <td>Paulino Calderon</td>\n",
       "      <td>Riviera Maya</td>\n",
       "    </tr>\n",
       "    <tr>\n",
       "      <th>3</th>\n",
       "      <td>John Dileo</td>\n",
       "      <td>[New Zealand]</td>\n",
       "    </tr>\n",
       "    <tr>\n",
       "      <th>4</th>\n",
       "      <td>Azzeddine Ramrami</td>\n",
       "      <td>Morocco</td>\n",
       "    </tr>\n",
       "    <tr>\n",
       "      <th>5</th>\n",
       "      <td>Bart De Win</td>\n",
       "      <td>Belgium</td>\n",
       "    </tr>\n",
       "    <tr>\n",
       "      <th>6</th>\n",
       "      <td>Adrian Winckles</td>\n",
       "      <td>Cambridge</td>\n",
       "    </tr>\n",
       "    <tr>\n",
       "      <th>7</th>\n",
       "      <td>Andra Lezza</td>\n",
       "      <td>London</td>\n",
       "    </tr>\n",
       "    <tr>\n",
       "      <th>8</th>\n",
       "      <td>Felipe Zipitria</td>\n",
       "      <td>Uruguay</td>\n",
       "    </tr>\n",
       "    <tr>\n",
       "      <th>9</th>\n",
       "      <td>Sam Stepanyan</td>\n",
       "      <td>London</td>\n",
       "    </tr>\n",
       "    <tr>\n",
       "      <th>10</th>\n",
       "      <td>Sebastien Deleersnyder</td>\n",
       "      <td>Belgium</td>\n",
       "    </tr>\n",
       "  </tbody>\n",
       "</table>\n",
       "</div>"
      ],
      "text/plain": [
       "                     title chapter_leader\n",
       "1            Lauren Chiesa      WiaLondon\n",
       "2         Paulino Calderon   Riviera Maya\n",
       "3               John Dileo  [New Zealand]\n",
       "4        Azzeddine Ramrami        Morocco\n",
       "5              Bart De Win        Belgium\n",
       "6          Adrian Winckles      Cambridge\n",
       "7              Andra Lezza         London\n",
       "8          Felipe Zipitria        Uruguay\n",
       "9            Sam Stepanyan         London\n",
       "10  Sebastien Deleersnyder        Belgium"
      ]
     },
     "execution_count": 22,
     "metadata": {},
     "output_type": "execute_result"
    }
   ],
   "source": [
    "hugo.df_field('chapter_leader')"
   ]
  },
  {
   "cell_type": "markdown",
   "metadata": {},
   "source": [
    "## Project Leaders"
   ]
  },
  {
   "cell_type": "code",
   "execution_count": 25,
   "metadata": {},
   "outputs": [
    {
     "data": {
      "text/html": [
       "<div>\n",
       "<style scoped>\n",
       "    .dataframe tbody tr th:only-of-type {\n",
       "        vertical-align: middle;\n",
       "    }\n",
       "\n",
       "    .dataframe tbody tr th {\n",
       "        vertical-align: top;\n",
       "    }\n",
       "\n",
       "    .dataframe thead th {\n",
       "        text-align: right;\n",
       "    }\n",
       "</style>\n",
       "<table border=\"1\" class=\"dataframe\">\n",
       "  <thead>\n",
       "    <tr style=\"text-align: right;\">\n",
       "      <th></th>\n",
       "      <th>title</th>\n",
       "      <th>project_leader</th>\n",
       "    </tr>\n",
       "  </thead>\n",
       "  <tbody>\n",
       "    <tr>\n",
       "      <th>1</th>\n",
       "      <td>Sven Schleier</td>\n",
       "      <td>[OWASP Mobile Security Testing Guide]</td>\n",
       "    </tr>\n",
       "    <tr>\n",
       "      <th>2</th>\n",
       "      <td>Steven van der Baan</td>\n",
       "      <td>[OWASP Capture The Flag]</td>\n",
       "    </tr>\n",
       "    <tr>\n",
       "      <th>3</th>\n",
       "      <td>Paulino Calderon</td>\n",
       "      <td>[OWASP IoT Goat]</td>\n",
       "    </tr>\n",
       "    <tr>\n",
       "      <th>4</th>\n",
       "      <td>John Dileo</td>\n",
       "      <td>[OWASP Application Security Curriculum]</td>\n",
       "    </tr>\n",
       "    <tr>\n",
       "      <th>5</th>\n",
       "      <td>Azzeddine Ramrami</td>\n",
       "      <td>[CSRFGuard]</td>\n",
       "    </tr>\n",
       "    <tr>\n",
       "      <th>6</th>\n",
       "      <td>Bart De Win</td>\n",
       "      <td>[OWASP SAMM]</td>\n",
       "    </tr>\n",
       "    <tr>\n",
       "      <th>7</th>\n",
       "      <td>Simon Bennetts</td>\n",
       "      <td>[OWASP ZAP]</td>\n",
       "    </tr>\n",
       "    <tr>\n",
       "      <th>8</th>\n",
       "      <td>Jim Manico</td>\n",
       "      <td>[OWASP Proactive Controls, OWASP Cheatsheet Se...</td>\n",
       "    </tr>\n",
       "    <tr>\n",
       "      <th>9</th>\n",
       "      <td>Adrian Winckles</td>\n",
       "      <td>[Application Security Curriculum, OWASP Honeypot]</td>\n",
       "    </tr>\n",
       "    <tr>\n",
       "      <th>10</th>\n",
       "      <td>Bjoern Kimminich</td>\n",
       "      <td>[OWASP Juiceshop]</td>\n",
       "    </tr>\n",
       "    <tr>\n",
       "      <th>11</th>\n",
       "      <td>Sebastien Deleersnyder</td>\n",
       "      <td>[OWASP SAMM]</td>\n",
       "    </tr>\n",
       "    <tr>\n",
       "      <th>12</th>\n",
       "      <td>Steven Wierckx</td>\n",
       "      <td>[OWASP Threat Modeling]</td>\n",
       "    </tr>\n",
       "    <tr>\n",
       "      <th>13</th>\n",
       "      <td>Jeroen Willemsen</td>\n",
       "      <td>[OWASP Mobile Security Testing Guide]</td>\n",
       "    </tr>\n",
       "    <tr>\n",
       "      <th>14</th>\n",
       "      <td>Dinis Cruz</td>\n",
       "      <td>[OWASP O2 Plattform, OWASP Maturity Models, OW...</td>\n",
       "    </tr>\n",
       "  </tbody>\n",
       "</table>\n",
       "</div>"
      ],
      "text/plain": [
       "                     title                                     project_leader\n",
       "1            Sven Schleier              [OWASP Mobile Security Testing Guide]\n",
       "2      Steven van der Baan                           [OWASP Capture The Flag]\n",
       "3         Paulino Calderon                                   [OWASP IoT Goat]\n",
       "4               John Dileo            [OWASP Application Security Curriculum]\n",
       "5        Azzeddine Ramrami                                        [CSRFGuard]\n",
       "6              Bart De Win                                       [OWASP SAMM]\n",
       "7           Simon Bennetts                                        [OWASP ZAP]\n",
       "8               Jim Manico  [OWASP Proactive Controls, OWASP Cheatsheet Se...\n",
       "9          Adrian Winckles  [Application Security Curriculum, OWASP Honeypot]\n",
       "10        Bjoern Kimminich                                  [OWASP Juiceshop]\n",
       "11  Sebastien Deleersnyder                                       [OWASP SAMM]\n",
       "12          Steven Wierckx                            [OWASP Threat Modeling]\n",
       "13        Jeroen Willemsen              [OWASP Mobile Security Testing Guide]\n",
       "14              Dinis Cruz  [OWASP O2 Plattform, OWASP Maturity Models, OW..."
      ]
     },
     "execution_count": 25,
     "metadata": {},
     "output_type": "execute_result"
    }
   ],
   "source": [
    "hugo.df_field('project_leader')"
   ]
  },
  {
   "cell_type": "markdown",
   "metadata": {},
   "source": [
    "## Project Contributors"
   ]
  },
  {
   "cell_type": "code",
   "execution_count": 19,
   "metadata": {},
   "outputs": [
    {
     "data": {
      "text/html": [
       "<div>\n",
       "<style scoped>\n",
       "    .dataframe tbody tr th:only-of-type {\n",
       "        vertical-align: middle;\n",
       "    }\n",
       "\n",
       "    .dataframe tbody tr th {\n",
       "        vertical-align: top;\n",
       "    }\n",
       "\n",
       "    .dataframe thead th {\n",
       "        text-align: right;\n",
       "    }\n",
       "</style>\n",
       "<table border=\"1\" class=\"dataframe\">\n",
       "  <thead>\n",
       "    <tr style=\"text-align: right;\">\n",
       "      <th></th>\n",
       "      <th>title</th>\n",
       "      <th>project_contributor</th>\n",
       "    </tr>\n",
       "  </thead>\n",
       "  <tbody>\n",
       "    <tr>\n",
       "      <th>1</th>\n",
       "      <td>Dinis Cruz</td>\n",
       "      <td>[OWASP SAMM, OWASP Top 10]</td>\n",
       "    </tr>\n",
       "  </tbody>\n",
       "</table>\n",
       "</div>"
      ],
      "text/plain": [
       "        title         project_contributor\n",
       "1  Dinis Cruz  [OWASP SAMM, OWASP Top 10]"
      ]
     },
     "execution_count": 19,
     "metadata": {},
     "output_type": "execute_result"
    }
   ],
   "source": [
    "hugo.df_field('project_contributor')"
   ]
  },
  {
   "cell_type": "markdown",
   "metadata": {},
   "source": [
    "## Project Users"
   ]
  },
  {
   "cell_type": "code",
   "execution_count": 21,
   "metadata": {},
   "outputs": [
    {
     "data": {
      "text/html": [
       "<div>\n",
       "<style scoped>\n",
       "    .dataframe tbody tr th:only-of-type {\n",
       "        vertical-align: middle;\n",
       "    }\n",
       "\n",
       "    .dataframe tbody tr th {\n",
       "        vertical-align: top;\n",
       "    }\n",
       "\n",
       "    .dataframe thead th {\n",
       "        text-align: right;\n",
       "    }\n",
       "</style>\n",
       "<table border=\"1\" class=\"dataframe\">\n",
       "  <thead>\n",
       "    <tr style=\"text-align: right;\">\n",
       "      <th></th>\n",
       "      <th>title</th>\n",
       "      <th>project_user</th>\n",
       "    </tr>\n",
       "  </thead>\n",
       "  <tbody>\n",
       "    <tr>\n",
       "      <th>1</th>\n",
       "      <td>Hardik Parekh</td>\n",
       "      <td>[OWASP SAMM]</td>\n",
       "    </tr>\n",
       "    <tr>\n",
       "      <th>2</th>\n",
       "      <td>Dinis Cruz</td>\n",
       "      <td>[OWASP ASVS]</td>\n",
       "    </tr>\n",
       "  </tbody>\n",
       "</table>\n",
       "</div>"
      ],
      "text/plain": [
       "           title  project_user\n",
       "1  Hardik Parekh  [OWASP SAMM]\n",
       "2     Dinis Cruz  [OWASP ASVS]"
      ]
     },
     "execution_count": 21,
     "metadata": {},
     "output_type": "execute_result"
    }
   ],
   "source": [
    "hugo.df_field('project_user')"
   ]
  },
  {
   "cell_type": "markdown",
   "metadata": {},
   "source": [
    "## OWASP Leadership"
   ]
  },
  {
   "cell_type": "code",
   "execution_count": 17,
   "metadata": {},
   "outputs": [
    {
     "data": {
      "text/html": [
       "<div>\n",
       "<style scoped>\n",
       "    .dataframe tbody tr th:only-of-type {\n",
       "        vertical-align: middle;\n",
       "    }\n",
       "\n",
       "    .dataframe tbody tr th {\n",
       "        vertical-align: top;\n",
       "    }\n",
       "\n",
       "    .dataframe thead th {\n",
       "        text-align: right;\n",
       "    }\n",
       "</style>\n",
       "<table border=\"1\" class=\"dataframe\">\n",
       "  <thead>\n",
       "    <tr style=\"text-align: right;\">\n",
       "      <th></th>\n",
       "      <th>title</th>\n",
       "      <th>owasp_leadership</th>\n",
       "    </tr>\n",
       "  </thead>\n",
       "  <tbody>\n",
       "    <tr>\n",
       "      <th>1</th>\n",
       "      <td>Dinis Cruz</td>\n",
       "      <td>[Board Member (20??-2011), London Chapter, Por...</td>\n",
       "    </tr>\n",
       "  </tbody>\n",
       "</table>\n",
       "</div>"
      ],
      "text/plain": [
       "        title                                   owasp_leadership\n",
       "1  Dinis Cruz  [Board Member (20??-2011), London Chapter, Por..."
      ]
     },
     "execution_count": 17,
     "metadata": {},
     "output_type": "execute_result"
    }
   ],
   "source": [
    "hugo.df_field('owasp_leadership')"
   ]
  },
  {
   "cell_type": "markdown",
   "metadata": {},
   "source": [
    "-----\n",
    "\n",
    "## Interrested in\n",
    "\n",
    "for refernece here are the other interests mapped by partipants"
   ]
  },
  {
   "cell_type": "code",
   "execution_count": 20,
   "metadata": {},
   "outputs": [
    {
     "data": {
      "text/html": [
       "<div>\n",
       "<style scoped>\n",
       "    .dataframe tbody tr th:only-of-type {\n",
       "        vertical-align: middle;\n",
       "    }\n",
       "\n",
       "    .dataframe tbody tr th {\n",
       "        vertical-align: top;\n",
       "    }\n",
       "\n",
       "    .dataframe thead th {\n",
       "        text-align: right;\n",
       "    }\n",
       "</style>\n",
       "<table border=\"1\" class=\"dataframe\">\n",
       "  <thead>\n",
       "    <tr style=\"text-align: right;\">\n",
       "      <th></th>\n",
       "      <th>title</th>\n",
       "      <th>interested_in</th>\n",
       "    </tr>\n",
       "  </thead>\n",
       "  <tbody>\n",
       "    <tr>\n",
       "      <th>1</th>\n",
       "      <td>Hardik Parekh</td>\n",
       "      <td>[OWASP SAMM]</td>\n",
       "    </tr>\n",
       "    <tr>\n",
       "      <th>2</th>\n",
       "      <td>Kim Wuyts</td>\n",
       "      <td>[Threat Modeling, LINDDUN]</td>\n",
       "    </tr>\n",
       "    <tr>\n",
       "      <th>3</th>\n",
       "      <td>Yan Kravchenko</td>\n",
       "      <td>[OWASP SAMM]</td>\n",
       "    </tr>\n",
       "    <tr>\n",
       "      <th>4</th>\n",
       "      <td>John Dileo</td>\n",
       "      <td>[OWASP SAMM]</td>\n",
       "    </tr>\n",
       "    <tr>\n",
       "      <th>5</th>\n",
       "      <td>Mustafa Kasmani</td>\n",
       "      <td>[Threat modeling]</td>\n",
       "    </tr>\n",
       "    <tr>\n",
       "      <th>6</th>\n",
       "      <td>Geoff Hill</td>\n",
       "      <td>[Threat Modeling]</td>\n",
       "    </tr>\n",
       "    <tr>\n",
       "      <th>7</th>\n",
       "      <td>Nessim Kisserli</td>\n",
       "      <td>[OWASP SAMM]</td>\n",
       "    </tr>\n",
       "    <tr>\n",
       "      <th>8</th>\n",
       "      <td>Daniel Kefer</td>\n",
       "      <td>[OWASP SAMM]</td>\n",
       "    </tr>\n",
       "    <tr>\n",
       "      <th>9</th>\n",
       "      <td>Chris Cooper</td>\n",
       "      <td>[OWASP SAMM]</td>\n",
       "    </tr>\n",
       "    <tr>\n",
       "      <th>10</th>\n",
       "      <td>Patricia Duarte</td>\n",
       "      <td>[Technical Writer]</td>\n",
       "    </tr>\n",
       "    <tr>\n",
       "      <th>11</th>\n",
       "      <td>Jannik Hollenbach</td>\n",
       "      <td>[OWASP Juice Shop]</td>\n",
       "    </tr>\n",
       "    <tr>\n",
       "      <th>12</th>\n",
       "      <td>Felipe Zipitria</td>\n",
       "      <td>[Hugo]</td>\n",
       "    </tr>\n",
       "    <tr>\n",
       "      <th>13</th>\n",
       "      <td>Sebastien Deleersnyder</td>\n",
       "      <td>[OWASP SAMM, Threat Modeling]</td>\n",
       "    </tr>\n",
       "    <tr>\n",
       "      <th>14</th>\n",
       "      <td>Steven Wierckx</td>\n",
       "      <td>[Threat modeling]</td>\n",
       "    </tr>\n",
       "  </tbody>\n",
       "</table>\n",
       "</div>"
      ],
      "text/plain": [
       "                     title                  interested_in\n",
       "1            Hardik Parekh                   [OWASP SAMM]\n",
       "2                Kim Wuyts     [Threat Modeling, LINDDUN]\n",
       "3           Yan Kravchenko                   [OWASP SAMM]\n",
       "4               John Dileo                   [OWASP SAMM]\n",
       "5          Mustafa Kasmani              [Threat modeling]\n",
       "6               Geoff Hill              [Threat Modeling]\n",
       "7          Nessim Kisserli                   [OWASP SAMM]\n",
       "8             Daniel Kefer                   [OWASP SAMM]\n",
       "9             Chris Cooper                   [OWASP SAMM]\n",
       "10         Patricia Duarte             [Technical Writer]\n",
       "11       Jannik Hollenbach             [OWASP Juice Shop]\n",
       "12         Felipe Zipitria                         [Hugo]\n",
       "13  Sebastien Deleersnyder  [OWASP SAMM, Threat Modeling]\n",
       "14          Steven Wierckx              [Threat modeling]"
      ]
     },
     "execution_count": 20,
     "metadata": {},
     "output_type": "execute_result"
    }
   ],
   "source": [
    "hugo.df_field('interested_in')"
   ]
  },
  {
   "cell_type": "code",
   "execution_count": null,
   "metadata": {},
   "outputs": [],
   "source": []
  }
 ],
 "metadata": {
  "kernelspec": {
   "display_name": "Python 3",
   "language": "python",
   "name": "python3"
  },
  "language_info": {
   "codemirror_mode": {
    "name": "ipython",
    "version": 3
   },
   "file_extension": ".py",
   "mimetype": "text/x-python",
   "name": "python",
   "nbconvert_exporter": "python",
   "pygments_lexer": "ipython3",
   "version": "3.7.3"
  }
 },
 "nbformat": 4,
 "nbformat_minor": 2
}
