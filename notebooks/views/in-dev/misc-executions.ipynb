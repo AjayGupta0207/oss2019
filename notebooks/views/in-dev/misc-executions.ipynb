{
 "cells": [
  {
   "cell_type": "markdown",
   "metadata": {},
   "source": [
    "## remove emails"
   ]
  },
  {
   "cell_type": "code",
   "execution_count": 78,
   "metadata": {},
   "outputs": [],
   "source": [
    "#%load_ext autoreload\n",
    "#%autoreload\n",
    "from oss_hugo.OSS_GSheet_Data import OSS_GSheet_Data\n",
    "from oss_hugo.API_Hugo_OSS import API_Hugo_OSS\n",
    "from oss_hugo.OSS_Participant import OSS_Participant"
   ]
  },
  {
   "cell_type": "code",
   "execution_count": 154,
   "metadata": {},
   "outputs": [],
   "source": [
    "%autoreload\n",
    "data = OSS_GSheet_Data()\n",
    "hugo = API_Hugo_OSS()"
   ]
  },
  {
   "cell_type": "code",
   "execution_count": 158,
   "metadata": {
    "scrolled": false
   },
   "outputs": [
    {
     "data": {
      "text/html": [
       "<div>\n",
       "<style scoped>\n",
       "    .dataframe tbody tr th:only-of-type {\n",
       "        vertical-align: middle;\n",
       "    }\n",
       "\n",
       "    .dataframe tbody tr th {\n",
       "        vertical-align: top;\n",
       "    }\n",
       "\n",
       "    .dataframe thead th {\n",
       "        text-align: right;\n",
       "    }\n",
       "</style>\n",
       "<table border=\"1\" class=\"dataframe\">\n",
       "  <thead>\n",
       "    <tr style=\"text-align: right;\">\n",
       "      <th></th>\n",
       "      <th>Name</th>\n",
       "      <th>Chapter Leader</th>\n",
       "    </tr>\n",
       "  </thead>\n",
       "  <tbody>\n",
       "    <tr>\n",
       "      <th>1</th>\n",
       "      <td>Lauren Chiesa</td>\n",
       "      <td>WiaLondon</td>\n",
       "    </tr>\n",
       "    <tr>\n",
       "      <th>9</th>\n",
       "      <td>Sebastien Deleersnyder</td>\n",
       "      <td>Belgium</td>\n",
       "    </tr>\n",
       "    <tr>\n",
       "      <th>49</th>\n",
       "      <td>Bart De Win</td>\n",
       "      <td>Belgium</td>\n",
       "    </tr>\n",
       "    <tr>\n",
       "      <th>69</th>\n",
       "      <td>Felipe Zipitria</td>\n",
       "      <td>Uruguay</td>\n",
       "    </tr>\n",
       "    <tr>\n",
       "      <th>97</th>\n",
       "      <td>Azzeddine Ramrami</td>\n",
       "      <td>Morocco</td>\n",
       "    </tr>\n",
       "    <tr>\n",
       "      <th>98</th>\n",
       "      <td>Andra Lezza</td>\n",
       "      <td>London</td>\n",
       "    </tr>\n",
       "    <tr>\n",
       "      <th>102</th>\n",
       "      <td>Adrian Winckles</td>\n",
       "      <td>Cambridge</td>\n",
       "    </tr>\n",
       "    <tr>\n",
       "      <th>103</th>\n",
       "      <td>Paulino Calderon</td>\n",
       "      <td>Riviera Maya</td>\n",
       "    </tr>\n",
       "    <tr>\n",
       "      <th>107</th>\n",
       "      <td>Sam Stepanyan</td>\n",
       "      <td>London</td>\n",
       "    </tr>\n",
       "  </tbody>\n",
       "</table>\n",
       "</div>"
      ],
      "text/plain": [
       "                       Name Chapter Leader\n",
       "1             Lauren Chiesa      WiaLondon\n",
       "9    Sebastien Deleersnyder        Belgium\n",
       "49              Bart De Win        Belgium\n",
       "69          Felipe Zipitria        Uruguay\n",
       "97        Azzeddine Ramrami        Morocco\n",
       "98              Andra Lezza         London\n",
       "102         Adrian Winckles      Cambridge\n",
       "103        Paulino Calderon   Riviera Maya\n",
       "107           Sam Stepanyan         London"
      ]
     },
     "execution_count": 158,
     "metadata": {},
     "output_type": "execute_result"
    }
   ],
   "source": [
    "#grid = hugo.qgrid_participants(['title','email'])\n",
    "df_gsheet = data.df_participants_onsite(['Name','Chapter Leader'])\n",
    "df_chapters = df_gsheet[df_gsheet['Chapter Leader'] != '']#[['Name','Chapter Leader']].reset_index(drop=True)\n",
    "df_chapters"
   ]
  },
  {
   "cell_type": "code",
   "execution_count": 204,
   "metadata": {},
   "outputs": [],
   "source": [
    "%autoreload\n",
    "\n",
    "gsheet = OSS_GSheet_Data()\n",
    "hugo   = API_Hugo_OSS()\n",
    "\n"
   ]
  },
  {
   "cell_type": "code",
   "execution_count": 205,
   "metadata": {},
   "outputs": [],
   "source": [
    "df = hugo.df_participants()"
   ]
  },
  {
   "cell_type": "code",
   "execution_count": 222,
   "metadata": {},
   "outputs": [
    {
     "name": "stdout",
     "output_type": "stream",
     "text": [
      "@bsd_daemon @vdbaan @calderpwn @gr4ybeard @doukkalli @ @psiinon @manicode @botflowking @ @bkimminich @sebadele @ihackforfun @commjoenie @DinisCruz\n"
     ]
    }
   ],
   "source": [
    "df = hugo.df_participants()\n",
    "df_project_leader = hugo.df_field('project_leader')['title']\n",
    "df_merge = df.merge(df_project_leader)[['title','twitter']]\n",
    "print(\" \".join(df_merge['twitter'].apply(lambda x: \"@{0}\".format(x))))"
   ]
  },
  {
   "cell_type": "code",
   "execution_count": 226,
   "metadata": {},
   "outputs": [
    {
     "name": "stdout",
     "output_type": "stream",
     "text": [
      "@info_sec_girl @calderpwn @gr4ybeard @doukkalli @ @botflowking @ALL_Sec_geek @ @securestep9 @sebadele\n"
     ]
    }
   ],
   "source": [
    "df = hugo.df_participants()\n",
    "df_project_leader = hugo.df_field('chapter_leader')['title']\n",
    "df_merge = df.merge(df_project_leader)[['title','twitter']]\n",
    "print(\" \".join(df_merge['twitter'].apply(lambda x: \"@{0}\".format(x))))\n",
    "#df_merge"
   ]
  },
  {
   "cell_type": "code",
   "execution_count": null,
   "metadata": {},
   "outputs": [],
   "source": []
  }
 ],
 "metadata": {
  "kernelspec": {
   "display_name": "Python 3",
   "language": "python",
   "name": "python3"
  },
  "language_info": {
   "codemirror_mode": {
    "name": "ipython",
    "version": 3
   },
   "file_extension": ".py",
   "mimetype": "text/x-python",
   "name": "python",
   "nbconvert_exporter": "python",
   "pygments_lexer": "ipython3",
   "version": "3.7.3"
  }
 },
 "nbformat": 4,
 "nbformat_minor": 2
}
