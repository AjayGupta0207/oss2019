{
 "cells": [
  {
   "cell_type": "markdown",
   "metadata": {},
   "source": [
    "## Sessions - All Registrations"
   ]
  },
  {
   "cell_type": "code",
   "execution_count": 3,
   "metadata": {},
   "outputs": [],
   "source": [
    "%load_ext autoreload\n",
    "%autoreload\n",
    "from oss_hugo.OSS_Schedule import OSS_Schedule\n",
    "from oss_hugo.API_Hugo_OSS import API_Hugo_OSS\n",
    "\n",
    "pd.set_option('display.max_colwidth', -1)\n",
    "pd.set_option('display.max_rows'    , 1000)"
   ]
  },
  {
   "cell_type": "code",
   "execution_count": 4,
   "metadata": {},
   "outputs": [],
   "source": [
    "schedule = OSS_Schedule()\n",
    "hugo     = API_Hugo_OSS()\n",
    "\n",
    "df_sessions_participants = schedule.df_sessions_registered_participants()\n",
    "df_sessions = hugo.df_sessions()\n",
    "df_sessions_organizers  = df_sessions[['title','organizers']].dropna()\n",
    "df_sessions_organizers['organizers_count'] = df_sessions_organizers['organizers'].apply(lambda x: len (x))\n"
   ]
  },
  {
   "cell_type": "code",
   "execution_count": 53,
   "metadata": {
    "scrolled": false
   },
   "outputs": [
    {
     "data": {
      "text/plain": [
       "''"
      ]
     },
     "execution_count": 53,
     "metadata": {},
     "output_type": "execute_result"
    }
   ],
   "source": [
    "# merge both DataFrames\n",
    "df_merge = df_sessions_organizers.merge(df_sessions_participants)\n",
    "df_merge['total_count'] = df_merge['participants_count'] + df_merge['organizers_count']\n",
    "df_merge = df_merge.sort_values(['participants_count','organizers_count'], ascending=False)\n",
    "\n",
    "df_merge = df_merge.reset_index(drop=True)\n",
    "df_merge[['title', 'total_count', 'participants_count','organizers_count','organizers','participants']]\n",
    ";"
   ]
  },
  {
   "cell_type": "code",
   "execution_count": 77,
   "metadata": {},
   "outputs": [],
   "source": [
    "# data= df_sessions_participants.set_index('title').to_dict(orient='index')\n",
    "# pd.DataFrame(data)\n",
    "\n",
    "# df_sessions              = hugo.df_sessions()\n",
    "# df_sessions_organizers   = df_sessions[['title','organizers']].dropna()\n",
    "# df_sessions_participants = schedule.df_sessions_registered_participants()\n",
    "by_participants          = df_sessions_participants.set_index('title').to_dict(orient='index')\n",
    "by_organizers            = df_sessions_organizers  .set_index('title').to_dict(orient='index')\n"
   ]
  },
  {
   "cell_type": "code",
   "execution_count": 80,
   "metadata": {},
   "outputs": [
    {
     "data": {
      "text/plain": [
       "{'Agile Practices for Security Teams',\n",
       " 'Android and iOS Security Enhancements and Crackme Apps',\n",
       " 'Application Security Verification Standard',\n",
       " 'Ask me anything (AMA) on GDPR',\n",
       " 'Cell based Structures for Security',\n",
       " 'Coordinating functions within a PST organisation',\n",
       " 'Create a Slack bot in Python',\n",
       " 'Creating Appsec metrics and visualisation',\n",
       " 'Creating a Security Champions network',\n",
       " 'Creating a Threat Library',\n",
       " 'Creating an iOS build pipeline with security checks',\n",
       " 'Customising the Chaos Engineering Toolkit',\n",
       " 'Cyber Risk Modeling',\n",
       " 'Dealing with DevSecOps Findings',\n",
       " 'Describe different ways of implementing TM in agile organisations',\n",
       " 'DevSecOps',\n",
       " 'DevSecOps Maturity Model (DSOMM)',\n",
       " 'From Threat Modeling to DevSecOps metrics',\n",
       " \"Hand's on Wardley Maps creation (Training Session)\",\n",
       " 'How do we persist the information from the TM Slack channel?',\n",
       " 'How to scale Threat Modeling',\n",
       " 'Integrating Security Tools in the SDL',\n",
       " 'Introduction to Cynefin Framework (Training Session)',\n",
       " 'Introduction to Wardley Maps (Training Session)',\n",
       " 'Juice Shop 101',\n",
       " 'Juice Shop Challenge Refactoring',\n",
       " 'Juice Shop Contributor Onboarding',\n",
       " \"Juice Shop Hack'n'Code\",\n",
       " 'Juice Shop Release Night',\n",
       " 'Juice Shop Round Table',\n",
       " 'Lightweight privacy threat modeling using LINDDUN',\n",
       " 'Mapping OWASP DevSecOps Maturity Model to SAMMv2',\n",
       " 'Mapping boot camp',\n",
       " 'Mobile AppSec Verification Standard (MASVS)',\n",
       " 'Mobile Basic Security Testing and Reverse Engineering',\n",
       " 'Mobile Security Testing Guide onboarding',\n",
       " 'OWASP Application Security Curriculum Project',\n",
       " 'OWASP HoneyPot',\n",
       " 'OWASP Juice Shop',\n",
       " 'OWASP MSTG',\n",
       " 'OWASP Mobile Security Testing Guide 101',\n",
       " 'OWASP SAMM',\n",
       " 'Open Session',\n",
       " 'Open Session - Run over session',\n",
       " 'Real world Chaos Engineering',\n",
       " 'SAMM - Agile guidance',\n",
       " 'SAMM - Alignment with Threat Modeling',\n",
       " 'SAMM - Alignment with other OWASP projects (Fri)',\n",
       " 'SAMM - Alignment with other OWASP projects (Thu)',\n",
       " 'SAMM - Alignment with other OWASP projects (Wed)',\n",
       " 'SAMM - Any Other Business',\n",
       " 'SAMM - DevOps guidance',\n",
       " 'SAMM - Editing agreements and parallel editing',\n",
       " 'SAMM - Measurement model (Mon EV)',\n",
       " 'SAMM - Measurement model (Mon PM)',\n",
       " 'SAMM - Model Challenges (Tue)',\n",
       " 'SAMM - Model Challenges (Wed)',\n",
       " 'SAMM - Model discussions (Tue)',\n",
       " 'SAMM - Model discussions (Wed)',\n",
       " 'SAMM - Outreach program (Mon)',\n",
       " 'SAMM - Outreach program (Tue)',\n",
       " 'SAMM - Outreach wrap-up',\n",
       " 'SAMM - Parallel editing (Thu AM)',\n",
       " 'SAMM - Parallel editing (Tue)',\n",
       " 'SAMM - Parallel editing (Wed PM)',\n",
       " 'SAMM - Parallel editing(Thu PM)',\n",
       " 'SAMM - Planning and Roadmap',\n",
       " 'SAMM - SAMM benchmarking',\n",
       " 'SAMM - SAMM documents and parallel editing (Wed AM)',\n",
       " 'SAMM - Tooling',\n",
       " 'SAMM user session - Introduction',\n",
       " 'SAMM user session - Round-table',\n",
       " 'SAMMv2 - Threat Modeling',\n",
       " 'Scaling API Security',\n",
       " 'Secrets Management',\n",
       " \"Securing Kubernete's hosted APIs\",\n",
       " 'Securing the CI Pipeline',\n",
       " 'Security Challenges - An Introduction',\n",
       " 'Security Challenges - Analyse others',\n",
       " 'Security Challenges - Analysis, Analogies',\n",
       " \"Security Challenges - Collate others' strategies and assumptions\",\n",
       " 'Security Challenges - Next step',\n",
       " 'Share your Threat Models diagrams and create a Book',\n",
       " 'State and future of threat modeling',\n",
       " 'Strategic Challenges',\n",
       " 'Third Party Due Diligence',\n",
       " 'Threat Model',\n",
       " 'Towards a unified way of describing threat models',\n",
       " 'Using Cynefin Framework making strategic security decisions',\n",
       " 'Using Wardley Maps and Cynefin for Security',\n",
       " 'Using Wardley Maps on SOC',\n",
       " 'Using graphs for GDPR mappings and visualisations',\n",
       " 'WAFs - Understanding and measuring how they behave',\n",
       " 'Wardley Mapping - Climatic Patterns and Using Doctrine',\n",
       " 'Wardley Maps',\n",
       " 'Wardley Maps for Security',\n",
       " 'Writing security tests to confirm vulnerabilities and fixes',\n",
       " 'ZAP working session - automation',\n",
       " 'ZAP working session - future plans',\n",
       " 'ZAP working session - the HUD',\n",
       " 'Zap - How to use it'}"
      ]
     },
     "execution_count": 80,
     "metadata": {},
     "output_type": "execute_result"
    }
   ],
   "source": [
    "set(by_participants)\n",
    "set(by_organizers)"
   ]
  },
  {
   "cell_type": "code",
   "execution_count": 74,
   "metadata": {},
   "outputs": [
    {
     "data": {
      "text/html": [
       "<div>\n",
       "<style scoped>\n",
       "    .dataframe tbody tr th:only-of-type {\n",
       "        vertical-align: middle;\n",
       "    }\n",
       "\n",
       "    .dataframe tbody tr th {\n",
       "        vertical-align: top;\n",
       "    }\n",
       "\n",
       "    .dataframe thead th {\n",
       "        text-align: right;\n",
       "    }\n",
       "</style>\n",
       "<table border=\"1\" class=\"dataframe\">\n",
       "  <thead>\n",
       "    <tr style=\"text-align: right;\">\n",
       "      <th></th>\n",
       "      <th>organizers</th>\n",
       "    </tr>\n",
       "    <tr>\n",
       "      <th>title</th>\n",
       "      <th></th>\n",
       "    </tr>\n",
       "  </thead>\n",
       "  <tbody>\n",
       "    <tr>\n",
       "      <th>SAMM - Measurement model (Mon)</th>\n",
       "      <td>[Sebastien Deleersnyder, Bart De Win]</td>\n",
       "    </tr>\n",
       "  </tbody>\n",
       "</table>\n",
       "</div>"
      ],
      "text/plain": [
       "                                                           organizers\n",
       "title                                                                \n",
       "SAMM - Measurement model (Mon)  [Sebastien Deleersnyder, Bart De Win]"
      ]
     },
     "execution_count": 74,
     "metadata": {},
     "output_type": "execute_result"
    }
   ],
   "source": []
  },
  {
   "cell_type": "code",
   "execution_count": 312,
   "metadata": {},
   "outputs": [],
   "source": [
    "#this code prints the name of sessions that exist in participant's schedule but don't match a session title\n",
    "schedule = OSS_Schedule()\n",
    "df_sessions_participants = schedule.df_sessions_registered_participants()\n",
    "titles = sorted(df_sessions_participants['title'].to_list())\n",
    "sessions = hugo.sessions_oss()\n",
    "\n",
    "for title in titles:\n",
    "    if sessions.get(title) is None:\n",
    "        print(title)"
   ]
  }
 ],
 "metadata": {
  "kernelspec": {
   "display_name": "Python 3",
   "language": "python",
   "name": "python3"
  },
  "language_info": {
   "codemirror_mode": {
    "name": "ipython",
    "version": 3
   },
   "file_extension": ".py",
   "mimetype": "text/x-python",
   "name": "python",
   "nbconvert_exporter": "python",
   "pygments_lexer": "ipython3",
   "version": "3.7.3"
  }
 },
 "nbformat": 4,
 "nbformat_minor": 2
}
